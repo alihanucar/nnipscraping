{
 "cells": [
  {
   "cell_type": "code",
   "execution_count": 14,
   "id": "656388b8",
   "metadata": {},
   "outputs": [
    {
     "name": "stderr",
     "output_type": "stream",
     "text": [
      "C:\\Users\\user\\AppData\\Local\\Temp\\ipykernel_14860\\1755584464.py:20: DeprecationWarning: executable_path has been deprecated, please pass in a Service object\n",
      "  driver = webdriver.Chrome(executable_path=driver_path)\n"
     ]
    },
    {
     "name": "stdout",
     "output_type": "stream",
     "text": [
      "0.75 %  255,804.88 EUR (2023/02/03)\n",
      "0.43 %  109,094,085.13 EUR (2023/02/03)\n",
      "Not Found\n",
      "0.93 %  296,690.22 USD (2023/02/03)\n",
      "0.95 %  2,176,519.66 EUR (2023/02/03)\n",
      "0.4 %  88,507,694.68 EUR (2023/02/03)\n"
     ]
    }
   ],
   "source": [
    "import time\n",
    "from selenium import webdriver\n",
    "import pandas as pd\n",
    "from selenium.webdriver.support.wait import WebDriverWait\n",
    "from selenium.webdriver.common.by import By\n",
    "from selenium.webdriver.support import  expected_conditions as ec\n",
    "\n",
    "fees_button = (By.XPATH,\"/html/body/button[@class='btn multitoggle__button multitoggle__button__active' and @data-testid='Fees']\")\n",
    "accept_button = (By.XPATH, \"/html/body/div/div[2]/div/div[2]/button\")\n",
    "script = 'document.getElementById(\"fund-keyfacts__tabs-panel-Fees\").getElementsByClassName(\"DefinitionList_definitionlistdescription_1fSov\")[0]'\n",
    "excel = pd.read_excel('funds-export3.xlsx')\n",
    "id = excel['Links']\n",
    "excel['Fees'] = None\n",
    "excel['AUM'] = None\n",
    "\n",
    "#id = [\"https://www.nnip.com/en-INT/professional/funds/detail/LU1766436502\",\"https://www.nnip.com/en-INT/professional/funds/detail/LU0386395445\"]\n",
    "\n",
    "for i in id:\n",
    "    driver_path = \"C:/Users/user/chromedriver.exe\"\n",
    "    driver = webdriver.Chrome(executable_path=driver_path)\n",
    "    driver.get(i)\n",
    "    driver.implicitly_wait(7)\n",
    "    driver.maximize_window()\n",
    "    wait = WebDriverWait(driver, 45)\n",
    "    time.sleep(2)\n",
    "    try:\n",
    "        element = wait.until(ec.element_to_be_clickable(accept_button),  \"Not Find\")\n",
    "        element.click()\n",
    "        #element1 = wait.until(ec.element_to_be_clickable(fees_button),  \"Not Find\")\n",
    "        #element1.click()\n",
    "        resultfees = driver.execute_script('return document.getElementById(\"fund-keyfacts__tabs-panel-Fees\").getElementsByClassName(\"body1 color-text-secondary definitionlist__description\")[0].innerText;')\n",
    "        resultaum = driver.execute_script('return document.getElementById(\"fund-keyfacts__tabs-panel-NAV\").getElementsByClassName(\"body1 color-text-secondary definitionlist__description\")[0].innerText;')\n",
    "        excel.loc[excel[excel['Links'] == i].index[0], 'Fees'] = resultfees\n",
    "        excel.loc[excel[excel['Links'] == i].index[0], 'AUM'] = resultaum\n",
    "        print(resultfees, resultaum)\n",
    "    except:\n",
    "        excel.loc[excel[excel['Links'] == i].index[0], 'Fees'] = \"Not Found\"\n",
    "        excel.loc[excel[excel['Links'] == i].index[0], 'AUM'] = \"Not Found\"\n",
    "        print(\"Not Found\")\n",
    "        \n",
    "    driver.close()\n",
    "\n",
    "excel.to_excel('funds-export--withfee.xlsx')"
   ]
  },
  {
   "cell_type": "code",
   "execution_count": null,
   "id": "2df71de0",
   "metadata": {},
   "outputs": [],
   "source": []
  }
 ],
 "metadata": {
  "kernelspec": {
   "display_name": "Python 3 (ipykernel)",
   "language": "python",
   "name": "python3"
  },
  "language_info": {
   "codemirror_mode": {
    "name": "ipython",
    "version": 3
   },
   "file_extension": ".py",
   "mimetype": "text/x-python",
   "name": "python",
   "nbconvert_exporter": "python",
   "pygments_lexer": "ipython3",
   "version": "3.9.12"
  }
 },
 "nbformat": 4,
 "nbformat_minor": 5
}
