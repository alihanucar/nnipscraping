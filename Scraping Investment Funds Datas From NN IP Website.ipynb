{
 "cells": [
  {
   "cell_type": "code",
   "execution_count": null,
   "id": "fca776b1",
   "metadata": {},
   "outputs": [],
   "source": [
    "#We import necessary libraries.\n",
    "import time\n",
    "from selenium import webdriver\n",
    "import pandas as pd\n",
    "from selenium.webdriver.support.wait import WebDriverWait\n",
    "from selenium.webdriver.common.by import By\n",
    "from selenium.webdriver.support import  expected_conditions as ec\n",
    "\n",
    "#Accept the cookies button and click the fee button.\n",
    "fees_button = (By.XPATH,\"/html/body/div/div[2]/section[2]/div/div/div/div/div/nav/div/div[2]/div[3]/button\")\n",
    "accept_button = (By.XPATH, \"/html/body/div/div[2]/div/div[2]/button\")\n",
    "\n",
    "#We use links from excel which we exported from NN IP website and added link column with concat function of excel. You can find it also in the documents.\n",
    "excel = pd.read_excel('funds-export3.xlsx')\n",
    "id = excel['Links']\n",
    "\n",
    "#We add empty columns on our excel files. \n",
    "excel['Fees'] = None\n",
    "excel['AUM'] = None\n",
    "\n",
    "#For loop for each link to open in chrome and scrap the data.\n",
    "for i in id:\n",
    "    driver_path = \"C:/Users/user/chromedriver.exe\"\n",
    "    driver = webdriver.Chrome(executable_path=driver_path)\n",
    "    driver.get(i)\n",
    "    driver.implicitly_wait(7)\n",
    "    driver.maximize_window()\n",
    "    wait = WebDriverWait(driver, 45)\n",
    "    time.sleep(2)\n",
    "    #Try-except method is for values which we couldn't find and add as a \"Not Found\" on excel columns.\n",
    "    try:\n",
    "        element = wait.until(ec.element_to_be_clickable(accept_button))\n",
    "        element.click()\n",
    "        element1 = wait.until(ec.element_to_be_clickable(fees_button))\n",
    "        element1.click()\n",
    "        \n",
    "        #Adding the required javascript id and classes. You can use different id and classes for different website. Inner function helps us to get the last value of class.\n",
    "        resultfees = driver.execute_script('return document.getElementById(\"fund-keyfacts__tabs-panel-Fees\").getElementsByClassName(\"DefinitionList_definitionlist__description__1fSov\")[0].innerText;')\n",
    "        resultaum = driver.execute_script('return document.getElementById(\"fund-keyfacts__tabs-panel-NAV\").getElementsByClassName(\"DefinitionList_definitionlist__description__1fSov\")[0].innerText;')\n",
    "        excel.loc[excel[excel['Links'] == i].index[0], 'Fees'] = resultfees\n",
    "        excel.loc[excel[excel['Links'] == i].index[0], 'AUM'] = resultaum\n",
    "        print(resultfees, resultaum)\n",
    "    except:\n",
    "        excel.loc[excel[excel['Links'] == i].index[0], 'Fees'] = \"Not Found\"\n",
    "        excel.loc[excel[excel['Links'] == i].index[0], 'AUM'] = \"Not Found\"\n",
    "        print(\"Not Found\")\n",
    "    driver.close()\n",
    "excel.to_excel('funds-export--withfee.xlsx')\n"
   ]
  }
 ],
 "metadata": {
  "kernelspec": {
   "display_name": "Python 3 (ipykernel)",
   "language": "python",
   "name": "python3"
  },
  "language_info": {
   "codemirror_mode": {
    "name": "ipython",
    "version": 3
   },
   "file_extension": ".py",
   "mimetype": "text/x-python",
   "name": "python",
   "nbconvert_exporter": "python",
   "pygments_lexer": "ipython3",
   "version": "3.9.12"
  }
 },
 "nbformat": 4,
 "nbformat_minor": 5
}
